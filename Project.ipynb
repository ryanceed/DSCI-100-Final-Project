{
 "cells": [
  {
   "cell_type": "code",
   "execution_count": 2,
   "id": "870f1e6e-3c3c-4a3d-bc93-4d6d2f87a885",
   "metadata": {},
   "outputs": [],
   "source": [
    "# testing commits"
   ]
  },
  {
   "cell_type": "code",
   "execution_count": null,
   "id": "6f6af5cf-20df-4ec4-b8ff-0bffc80ab19c",
   "metadata": {},
   "outputs": [],
   "source": []
  },
  {
   "cell_type": "code",
   "execution_count": null,
   "id": "476fff73-2b96-4236-aca0-0efdd8520f4c",
   "metadata": {},
   "outputs": [],
   "source": []
  }
 ],
 "metadata": {
  "kernelspec": {
   "display_name": "R",
   "language": "R",
   "name": "ir"
  },
  "language_info": {
   "codemirror_mode": "r",
   "file_extension": ".r",
   "mimetype": "text/x-r-source",
   "name": "R",
   "pygments_lexer": "r",
   "version": "4.3.3"
  }
 },
 "nbformat": 4,
 "nbformat_minor": 5
}
